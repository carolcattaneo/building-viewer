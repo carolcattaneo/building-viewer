{
  "nbformat": 4,
  "nbformat_minor": 0,
  "metadata": {
    "colab": {
      "provenance": [],
      "authorship_tag": "ABX9TyMldazD94qXtRmsI7GLxYQF",
      "include_colab_link": true
    },
    "kernelspec": {
      "name": "python3",
      "display_name": "Python 3"
    },
    "language_info": {
      "name": "python"
    }
  },
  "cells": [
    {
      "cell_type": "markdown",
      "metadata": {
        "id": "view-in-github",
        "colab_type": "text"
      },
      "source": [
        "<a href=\"https://colab.research.google.com/github/carolcattaneo/building-viewer/blob/master/Teste_classifica%C3%A7%C3%A3o_space_time_cube.ipynb\" target=\"_parent\"><img src=\"https://colab.research.google.com/assets/colab-badge.svg\" alt=\"Open In Colab\"/></a>"
      ]
    },
    {
      "cell_type": "markdown",
      "source": [
        "#📁 Parte 1 – Carregamento dos dados a partir do Google Drive"
      ],
      "metadata": {
        "id": "Kjg9MGGhqOVi"
      }
    },
    {
      "cell_type": "code",
      "execution_count": null,
      "metadata": {
        "colab": {
          "base_uri": "https://localhost:8080/"
        },
        "id": "Yi9VM_6pqI3L",
        "outputId": "b2e40b79-54d3-4bda-bd15-f2ff56889f91"
      },
      "outputs": [
        {
          "output_type": "stream",
          "name": "stdout",
          "text": [
            "Mounted at /content/drive\n"
          ]
        }
      ],
      "source": [
        "# Conectar ao Google Drive\n",
        "from google.colab import drive\n",
        "drive.mount('/content/drive')"
      ]
    },
    {
      "cell_type": "markdown",
      "source": [
        "Depois de montar o Drive, insira o caminho correto até seus arquivos:"
      ],
      "metadata": {
        "id": "6nYeecQxqklR"
      }
    },
    {
      "cell_type": "code",
      "source": [
        "import pandas as pd\n",
        "\n",
        "# Caminhos corrigidos\n",
        "caminho_sinistros = '/content/drive/MyDrive/space-time-cube/sinistros_2022-2025.csv'\n",
        "caminho_veiculos = '/content/drive/MyDrive/space-time-cube/veiculos_2022-2025.csv'\n",
        "caminho_pessoas = '/content/drive/MyDrive/space-time-cube/pessoas_2022-2025.csv'\n",
        "\n",
        "# Carregar os arquivos\n",
        "sinistros = pd.read_csv(caminho_sinistros, sep=';', encoding='latin1')\n",
        "veiculos = pd.read_csv(caminho_veiculos, sep=';', encoding='latin1')\n",
        "pessoas = pd.read_csv(caminho_pessoas, sep=';', encoding='latin1')\n",
        "\n",
        "# Visualizar as primeiras linhas\n",
        "print(\"Sinistros:\")\n",
        "display(sinistros.head(5))\n",
        "\n",
        "print(\"Veículos:\")\n",
        "display(veiculos.head(5))\n",
        "\n",
        "print(\"Pessoas:\")\n",
        "display(pessoas.head(5))\n"
      ],
      "metadata": {
        "colab": {
          "base_uri": "https://localhost:8080/",
          "height": 941
        },
        "id": "TZ4AjAC1qrYv",
        "outputId": "1e6fbf33-4619-4ce5-edd8-c057096c39fe"
      },
      "execution_count": null,
      "outputs": [
        {
          "output_type": "stream",
          "name": "stdout",
          "text": [
            "Sinistros:\n"
          ]
        },
        {
          "output_type": "display_data",
          "data": {
            "text/plain": [
              "   id_sinistro       tipo_registro data_sinistro  ano_sinistro  mes_sinistro  \\\n",
              "0      2460275      SINISTRO FATAL    01/01/2022          2022             1   \n",
              "1      2515784         NOTIFICACAO    01/01/2022          2022             1   \n",
              "2      2462487      SINISTRO FATAL    01/01/2022          2022             1   \n",
              "3      1812494  SINISTRO NAO FATAL    01/01/2022          2022             1   \n",
              "4      2464210      SINISTRO FATAL    01/01/2022          2022             1   \n",
              "\n",
              "   dia_sinistro ano_mes_sinistro hora_sinistro  \\\n",
              "0             1          2022/01         02:53   \n",
              "1             1          2022/01         23:45   \n",
              "2             1          2022/01         20:50   \n",
              "3             1          2022/01         18:21   \n",
              "4             1          2022/01         05:00   \n",
              "\n",
              "                               logradouro  numero_logradouro  ...  \\\n",
              "0  ESTRADA MUNICIPAL WASHINGTON JOSÉ PÊRA             2341.0  ...   \n",
              "1                                  SP 348              102.0  ...   \n",
              "2                       RUA DOS PATRIOTAS              630.0  ...   \n",
              "3                         PONTE JOAO DIAS               10.0  ...   \n",
              "4                             RUA LETICIA              272.0  ...   \n",
              "\n",
              "  tp_sinistro_colisao_traseira tp_sinistro_colisao_lateral  \\\n",
              "0                          NaN                         NaN   \n",
              "1                          NaN                         NaN   \n",
              "2                          NaN                         NaN   \n",
              "3                          NaN                         NaN   \n",
              "4                          NaN                         NaN   \n",
              "\n",
              "  tp_sinistro_colisao_transversal tp_sinistro_colisao_outros  \\\n",
              "0                             NaN                        NaN   \n",
              "1                             NaN                        NaN   \n",
              "2                               S                        NaN   \n",
              "3                             NaN                        NaN   \n",
              "4                             NaN                          S   \n",
              "\n",
              "  tp_sinistro_choque  tp_sinistro_capotamento  tp_sinistro_engavetamento  \\\n",
              "0                  S                      NaN                        NaN   \n",
              "1                NaN                      NaN                        NaN   \n",
              "2                  S                      NaN                        NaN   \n",
              "3                NaN                      NaN                        NaN   \n",
              "4                NaN                      NaN                        NaN   \n",
              "\n",
              "   tp_sinistro_tombamento  tp_sinistro_outros  tp_sinistro_nao_disponivel  \n",
              "0                     NaN                 NaN                           S  \n",
              "1                     NaN                 NaN                         NaN  \n",
              "2                     NaN                 NaN                         NaN  \n",
              "3                     NaN                   S                         NaN  \n",
              "4                     NaN                 NaN                           S  \n",
              "\n",
              "[5 rows x 43 columns]"
            ],
            "text/html": [
              "\n",
              "  <div id=\"df-8f7410bd-f47f-46ac-8870-4bcf58774d36\" class=\"colab-df-container\">\n",
              "    <div>\n",
              "<style scoped>\n",
              "    .dataframe tbody tr th:only-of-type {\n",
              "        vertical-align: middle;\n",
              "    }\n",
              "\n",
              "    .dataframe tbody tr th {\n",
              "        vertical-align: top;\n",
              "    }\n",
              "\n",
              "    .dataframe thead th {\n",
              "        text-align: right;\n",
              "    }\n",
              "</style>\n",
              "<table border=\"1\" class=\"dataframe\">\n",
              "  <thead>\n",
              "    <tr style=\"text-align: right;\">\n",
              "      <th></th>\n",
              "      <th>id_sinistro</th>\n",
              "      <th>tipo_registro</th>\n",
              "      <th>data_sinistro</th>\n",
              "      <th>ano_sinistro</th>\n",
              "      <th>mes_sinistro</th>\n",
              "      <th>dia_sinistro</th>\n",
              "      <th>ano_mes_sinistro</th>\n",
              "      <th>hora_sinistro</th>\n",
              "      <th>logradouro</th>\n",
              "      <th>numero_logradouro</th>\n",
              "      <th>...</th>\n",
              "      <th>tp_sinistro_colisao_traseira</th>\n",
              "      <th>tp_sinistro_colisao_lateral</th>\n",
              "      <th>tp_sinistro_colisao_transversal</th>\n",
              "      <th>tp_sinistro_colisao_outros</th>\n",
              "      <th>tp_sinistro_choque</th>\n",
              "      <th>tp_sinistro_capotamento</th>\n",
              "      <th>tp_sinistro_engavetamento</th>\n",
              "      <th>tp_sinistro_tombamento</th>\n",
              "      <th>tp_sinistro_outros</th>\n",
              "      <th>tp_sinistro_nao_disponivel</th>\n",
              "    </tr>\n",
              "  </thead>\n",
              "  <tbody>\n",
              "    <tr>\n",
              "      <th>0</th>\n",
              "      <td>2460275</td>\n",
              "      <td>SINISTRO FATAL</td>\n",
              "      <td>01/01/2022</td>\n",
              "      <td>2022</td>\n",
              "      <td>1</td>\n",
              "      <td>1</td>\n",
              "      <td>2022/01</td>\n",
              "      <td>02:53</td>\n",
              "      <td>ESTRADA MUNICIPAL WASHINGTON JOSÉ PÊRA</td>\n",
              "      <td>2341.0</td>\n",
              "      <td>...</td>\n",
              "      <td>NaN</td>\n",
              "      <td>NaN</td>\n",
              "      <td>NaN</td>\n",
              "      <td>NaN</td>\n",
              "      <td>S</td>\n",
              "      <td>NaN</td>\n",
              "      <td>NaN</td>\n",
              "      <td>NaN</td>\n",
              "      <td>NaN</td>\n",
              "      <td>S</td>\n",
              "    </tr>\n",
              "    <tr>\n",
              "      <th>1</th>\n",
              "      <td>2515784</td>\n",
              "      <td>NOTIFICACAO</td>\n",
              "      <td>01/01/2022</td>\n",
              "      <td>2022</td>\n",
              "      <td>1</td>\n",
              "      <td>1</td>\n",
              "      <td>2022/01</td>\n",
              "      <td>23:45</td>\n",
              "      <td>SP 348</td>\n",
              "      <td>102.0</td>\n",
              "      <td>...</td>\n",
              "      <td>NaN</td>\n",
              "      <td>NaN</td>\n",
              "      <td>NaN</td>\n",
              "      <td>NaN</td>\n",
              "      <td>NaN</td>\n",
              "      <td>NaN</td>\n",
              "      <td>NaN</td>\n",
              "      <td>NaN</td>\n",
              "      <td>NaN</td>\n",
              "      <td>NaN</td>\n",
              "    </tr>\n",
              "    <tr>\n",
              "      <th>2</th>\n",
              "      <td>2462487</td>\n",
              "      <td>SINISTRO FATAL</td>\n",
              "      <td>01/01/2022</td>\n",
              "      <td>2022</td>\n",
              "      <td>1</td>\n",
              "      <td>1</td>\n",
              "      <td>2022/01</td>\n",
              "      <td>20:50</td>\n",
              "      <td>RUA DOS PATRIOTAS</td>\n",
              "      <td>630.0</td>\n",
              "      <td>...</td>\n",
              "      <td>NaN</td>\n",
              "      <td>NaN</td>\n",
              "      <td>S</td>\n",
              "      <td>NaN</td>\n",
              "      <td>S</td>\n",
              "      <td>NaN</td>\n",
              "      <td>NaN</td>\n",
              "      <td>NaN</td>\n",
              "      <td>NaN</td>\n",
              "      <td>NaN</td>\n",
              "    </tr>\n",
              "    <tr>\n",
              "      <th>3</th>\n",
              "      <td>1812494</td>\n",
              "      <td>SINISTRO NAO FATAL</td>\n",
              "      <td>01/01/2022</td>\n",
              "      <td>2022</td>\n",
              "      <td>1</td>\n",
              "      <td>1</td>\n",
              "      <td>2022/01</td>\n",
              "      <td>18:21</td>\n",
              "      <td>PONTE JOAO DIAS</td>\n",
              "      <td>10.0</td>\n",
              "      <td>...</td>\n",
              "      <td>NaN</td>\n",
              "      <td>NaN</td>\n",
              "      <td>NaN</td>\n",
              "      <td>NaN</td>\n",
              "      <td>NaN</td>\n",
              "      <td>NaN</td>\n",
              "      <td>NaN</td>\n",
              "      <td>NaN</td>\n",
              "      <td>S</td>\n",
              "      <td>NaN</td>\n",
              "    </tr>\n",
              "    <tr>\n",
              "      <th>4</th>\n",
              "      <td>2464210</td>\n",
              "      <td>SINISTRO FATAL</td>\n",
              "      <td>01/01/2022</td>\n",
              "      <td>2022</td>\n",
              "      <td>1</td>\n",
              "      <td>1</td>\n",
              "      <td>2022/01</td>\n",
              "      <td>05:00</td>\n",
              "      <td>RUA LETICIA</td>\n",
              "      <td>272.0</td>\n",
              "      <td>...</td>\n",
              "      <td>NaN</td>\n",
              "      <td>NaN</td>\n",
              "      <td>NaN</td>\n",
              "      <td>S</td>\n",
              "      <td>NaN</td>\n",
              "      <td>NaN</td>\n",
              "      <td>NaN</td>\n",
              "      <td>NaN</td>\n",
              "      <td>NaN</td>\n",
              "      <td>S</td>\n",
              "    </tr>\n",
              "  </tbody>\n",
              "</table>\n",
              "<p>5 rows × 43 columns</p>\n",
              "</div>\n",
              "    <div class=\"colab-df-buttons\">\n",
              "\n",
              "  <div class=\"colab-df-container\">\n",
              "    <button class=\"colab-df-convert\" onclick=\"convertToInteractive('df-8f7410bd-f47f-46ac-8870-4bcf58774d36')\"\n",
              "            title=\"Convert this dataframe to an interactive table.\"\n",
              "            style=\"display:none;\">\n",
              "\n",
              "  <svg xmlns=\"http://www.w3.org/2000/svg\" height=\"24px\" viewBox=\"0 -960 960 960\">\n",
              "    <path d=\"M120-120v-720h720v720H120Zm60-500h600v-160H180v160Zm220 220h160v-160H400v160Zm0 220h160v-160H400v160ZM180-400h160v-160H180v160Zm440 0h160v-160H620v160ZM180-180h160v-160H180v160Zm440 0h160v-160H620v160Z\"/>\n",
              "  </svg>\n",
              "    </button>\n",
              "\n",
              "  <style>\n",
              "    .colab-df-container {\n",
              "      display:flex;\n",
              "      gap: 12px;\n",
              "    }\n",
              "\n",
              "    .colab-df-convert {\n",
              "      background-color: #E8F0FE;\n",
              "      border: none;\n",
              "      border-radius: 50%;\n",
              "      cursor: pointer;\n",
              "      display: none;\n",
              "      fill: #1967D2;\n",
              "      height: 32px;\n",
              "      padding: 0 0 0 0;\n",
              "      width: 32px;\n",
              "    }\n",
              "\n",
              "    .colab-df-convert:hover {\n",
              "      background-color: #E2EBFA;\n",
              "      box-shadow: 0px 1px 2px rgba(60, 64, 67, 0.3), 0px 1px 3px 1px rgba(60, 64, 67, 0.15);\n",
              "      fill: #174EA6;\n",
              "    }\n",
              "\n",
              "    .colab-df-buttons div {\n",
              "      margin-bottom: 4px;\n",
              "    }\n",
              "\n",
              "    [theme=dark] .colab-df-convert {\n",
              "      background-color: #3B4455;\n",
              "      fill: #D2E3FC;\n",
              "    }\n",
              "\n",
              "    [theme=dark] .colab-df-convert:hover {\n",
              "      background-color: #434B5C;\n",
              "      box-shadow: 0px 1px 3px 1px rgba(0, 0, 0, 0.15);\n",
              "      filter: drop-shadow(0px 1px 2px rgba(0, 0, 0, 0.3));\n",
              "      fill: #FFFFFF;\n",
              "    }\n",
              "  </style>\n",
              "\n",
              "    <script>\n",
              "      const buttonEl =\n",
              "        document.querySelector('#df-8f7410bd-f47f-46ac-8870-4bcf58774d36 button.colab-df-convert');\n",
              "      buttonEl.style.display =\n",
              "        google.colab.kernel.accessAllowed ? 'block' : 'none';\n",
              "\n",
              "      async function convertToInteractive(key) {\n",
              "        const element = document.querySelector('#df-8f7410bd-f47f-46ac-8870-4bcf58774d36');\n",
              "        const dataTable =\n",
              "          await google.colab.kernel.invokeFunction('convertToInteractive',\n",
              "                                                    [key], {});\n",
              "        if (!dataTable) return;\n",
              "\n",
              "        const docLinkHtml = 'Like what you see? Visit the ' +\n",
              "          '<a target=\"_blank\" href=https://colab.research.google.com/notebooks/data_table.ipynb>data table notebook</a>'\n",
              "          + ' to learn more about interactive tables.';\n",
              "        element.innerHTML = '';\n",
              "        dataTable['output_type'] = 'display_data';\n",
              "        await google.colab.output.renderOutput(dataTable, element);\n",
              "        const docLink = document.createElement('div');\n",
              "        docLink.innerHTML = docLinkHtml;\n",
              "        element.appendChild(docLink);\n",
              "      }\n",
              "    </script>\n",
              "  </div>\n",
              "\n",
              "\n",
              "    <div id=\"df-52b38712-0389-4209-920e-82563071c52b\">\n",
              "      <button class=\"colab-df-quickchart\" onclick=\"quickchart('df-52b38712-0389-4209-920e-82563071c52b')\"\n",
              "                title=\"Suggest charts\"\n",
              "                style=\"display:none;\">\n",
              "\n",
              "<svg xmlns=\"http://www.w3.org/2000/svg\" height=\"24px\"viewBox=\"0 0 24 24\"\n",
              "     width=\"24px\">\n",
              "    <g>\n",
              "        <path d=\"M19 3H5c-1.1 0-2 .9-2 2v14c0 1.1.9 2 2 2h14c1.1 0 2-.9 2-2V5c0-1.1-.9-2-2-2zM9 17H7v-7h2v7zm4 0h-2V7h2v10zm4 0h-2v-4h2v4z\"/>\n",
              "    </g>\n",
              "</svg>\n",
              "      </button>\n",
              "\n",
              "<style>\n",
              "  .colab-df-quickchart {\n",
              "      --bg-color: #E8F0FE;\n",
              "      --fill-color: #1967D2;\n",
              "      --hover-bg-color: #E2EBFA;\n",
              "      --hover-fill-color: #174EA6;\n",
              "      --disabled-fill-color: #AAA;\n",
              "      --disabled-bg-color: #DDD;\n",
              "  }\n",
              "\n",
              "  [theme=dark] .colab-df-quickchart {\n",
              "      --bg-color: #3B4455;\n",
              "      --fill-color: #D2E3FC;\n",
              "      --hover-bg-color: #434B5C;\n",
              "      --hover-fill-color: #FFFFFF;\n",
              "      --disabled-bg-color: #3B4455;\n",
              "      --disabled-fill-color: #666;\n",
              "  }\n",
              "\n",
              "  .colab-df-quickchart {\n",
              "    background-color: var(--bg-color);\n",
              "    border: none;\n",
              "    border-radius: 50%;\n",
              "    cursor: pointer;\n",
              "    display: none;\n",
              "    fill: var(--fill-color);\n",
              "    height: 32px;\n",
              "    padding: 0;\n",
              "    width: 32px;\n",
              "  }\n",
              "\n",
              "  .colab-df-quickchart:hover {\n",
              "    background-color: var(--hover-bg-color);\n",
              "    box-shadow: 0 1px 2px rgba(60, 64, 67, 0.3), 0 1px 3px 1px rgba(60, 64, 67, 0.15);\n",
              "    fill: var(--button-hover-fill-color);\n",
              "  }\n",
              "\n",
              "  .colab-df-quickchart-complete:disabled,\n",
              "  .colab-df-quickchart-complete:disabled:hover {\n",
              "    background-color: var(--disabled-bg-color);\n",
              "    fill: var(--disabled-fill-color);\n",
              "    box-shadow: none;\n",
              "  }\n",
              "\n",
              "  .colab-df-spinner {\n",
              "    border: 2px solid var(--fill-color);\n",
              "    border-color: transparent;\n",
              "    border-bottom-color: var(--fill-color);\n",
              "    animation:\n",
              "      spin 1s steps(1) infinite;\n",
              "  }\n",
              "\n",
              "  @keyframes spin {\n",
              "    0% {\n",
              "      border-color: transparent;\n",
              "      border-bottom-color: var(--fill-color);\n",
              "      border-left-color: var(--fill-color);\n",
              "    }\n",
              "    20% {\n",
              "      border-color: transparent;\n",
              "      border-left-color: var(--fill-color);\n",
              "      border-top-color: var(--fill-color);\n",
              "    }\n",
              "    30% {\n",
              "      border-color: transparent;\n",
              "      border-left-color: var(--fill-color);\n",
              "      border-top-color: var(--fill-color);\n",
              "      border-right-color: var(--fill-color);\n",
              "    }\n",
              "    40% {\n",
              "      border-color: transparent;\n",
              "      border-right-color: var(--fill-color);\n",
              "      border-top-color: var(--fill-color);\n",
              "    }\n",
              "    60% {\n",
              "      border-color: transparent;\n",
              "      border-right-color: var(--fill-color);\n",
              "    }\n",
              "    80% {\n",
              "      border-color: transparent;\n",
              "      border-right-color: var(--fill-color);\n",
              "      border-bottom-color: var(--fill-color);\n",
              "    }\n",
              "    90% {\n",
              "      border-color: transparent;\n",
              "      border-bottom-color: var(--fill-color);\n",
              "    }\n",
              "  }\n",
              "</style>\n",
              "\n",
              "      <script>\n",
              "        async function quickchart(key) {\n",
              "          const quickchartButtonEl =\n",
              "            document.querySelector('#' + key + ' button');\n",
              "          quickchartButtonEl.disabled = true;  // To prevent multiple clicks.\n",
              "          quickchartButtonEl.classList.add('colab-df-spinner');\n",
              "          try {\n",
              "            const charts = await google.colab.kernel.invokeFunction(\n",
              "                'suggestCharts', [key], {});\n",
              "          } catch (error) {\n",
              "            console.error('Error during call to suggestCharts:', error);\n",
              "          }\n",
              "          quickchartButtonEl.classList.remove('colab-df-spinner');\n",
              "          quickchartButtonEl.classList.add('colab-df-quickchart-complete');\n",
              "        }\n",
              "        (() => {\n",
              "          let quickchartButtonEl =\n",
              "            document.querySelector('#df-52b38712-0389-4209-920e-82563071c52b button');\n",
              "          quickchartButtonEl.style.display =\n",
              "            google.colab.kernel.accessAllowed ? 'block' : 'none';\n",
              "        })();\n",
              "      </script>\n",
              "    </div>\n",
              "\n",
              "    </div>\n",
              "  </div>\n"
            ],
            "application/vnd.google.colaboratory.intrinsic+json": {
              "type": "dataframe"
            }
          },
          "metadata": {}
        },
        {
          "output_type": "stream",
          "name": "stdout",
          "text": [
            "Veículos:\n"
          ]
        },
        {
          "output_type": "display_data",
          "data": {
            "text/plain": [
              "   id_sinistro  ano_fab  ano_modelo cor_veiculo data_sinistro  ano_sinistro  \\\n",
              "0      2459328      NaN         NaN         NaN    01/01/2022          2022   \n",
              "1      1334206   2015.0      2016.0      MARROM    01/01/2022          2022   \n",
              "2      1510855   2016.0      2016.0       CINZA    01/01/2022          2022   \n",
              "3      1510855   1999.0      2000.0    VERMELHA    01/01/2022          2022   \n",
              "4      1560478   1998.0      1998.0       CINZA    01/01/2022          2022   \n",
              "\n",
              "   mes_sinistro  dia_sinistro ano_mes_sinistro    tipo_veiculo  \n",
              "0             1             1          2022/01  NAO DISPONIVEL  \n",
              "1             1             1          2022/01       AUTOMOVEL  \n",
              "2             1             1          2022/01       AUTOMOVEL  \n",
              "3             1             1          2022/01     MOTOCICLETA  \n",
              "4             1             1          2022/01       AUTOMOVEL  "
            ],
            "text/html": [
              "\n",
              "  <div id=\"df-974d1ca4-400d-4c7a-aba5-f4b4a6a3d136\" class=\"colab-df-container\">\n",
              "    <div>\n",
              "<style scoped>\n",
              "    .dataframe tbody tr th:only-of-type {\n",
              "        vertical-align: middle;\n",
              "    }\n",
              "\n",
              "    .dataframe tbody tr th {\n",
              "        vertical-align: top;\n",
              "    }\n",
              "\n",
              "    .dataframe thead th {\n",
              "        text-align: right;\n",
              "    }\n",
              "</style>\n",
              "<table border=\"1\" class=\"dataframe\">\n",
              "  <thead>\n",
              "    <tr style=\"text-align: right;\">\n",
              "      <th></th>\n",
              "      <th>id_sinistro</th>\n",
              "      <th>ano_fab</th>\n",
              "      <th>ano_modelo</th>\n",
              "      <th>cor_veiculo</th>\n",
              "      <th>data_sinistro</th>\n",
              "      <th>ano_sinistro</th>\n",
              "      <th>mes_sinistro</th>\n",
              "      <th>dia_sinistro</th>\n",
              "      <th>ano_mes_sinistro</th>\n",
              "      <th>tipo_veiculo</th>\n",
              "    </tr>\n",
              "  </thead>\n",
              "  <tbody>\n",
              "    <tr>\n",
              "      <th>0</th>\n",
              "      <td>2459328</td>\n",
              "      <td>NaN</td>\n",
              "      <td>NaN</td>\n",
              "      <td>NaN</td>\n",
              "      <td>01/01/2022</td>\n",
              "      <td>2022</td>\n",
              "      <td>1</td>\n",
              "      <td>1</td>\n",
              "      <td>2022/01</td>\n",
              "      <td>NAO DISPONIVEL</td>\n",
              "    </tr>\n",
              "    <tr>\n",
              "      <th>1</th>\n",
              "      <td>1334206</td>\n",
              "      <td>2015.0</td>\n",
              "      <td>2016.0</td>\n",
              "      <td>MARROM</td>\n",
              "      <td>01/01/2022</td>\n",
              "      <td>2022</td>\n",
              "      <td>1</td>\n",
              "      <td>1</td>\n",
              "      <td>2022/01</td>\n",
              "      <td>AUTOMOVEL</td>\n",
              "    </tr>\n",
              "    <tr>\n",
              "      <th>2</th>\n",
              "      <td>1510855</td>\n",
              "      <td>2016.0</td>\n",
              "      <td>2016.0</td>\n",
              "      <td>CINZA</td>\n",
              "      <td>01/01/2022</td>\n",
              "      <td>2022</td>\n",
              "      <td>1</td>\n",
              "      <td>1</td>\n",
              "      <td>2022/01</td>\n",
              "      <td>AUTOMOVEL</td>\n",
              "    </tr>\n",
              "    <tr>\n",
              "      <th>3</th>\n",
              "      <td>1510855</td>\n",
              "      <td>1999.0</td>\n",
              "      <td>2000.0</td>\n",
              "      <td>VERMELHA</td>\n",
              "      <td>01/01/2022</td>\n",
              "      <td>2022</td>\n",
              "      <td>1</td>\n",
              "      <td>1</td>\n",
              "      <td>2022/01</td>\n",
              "      <td>MOTOCICLETA</td>\n",
              "    </tr>\n",
              "    <tr>\n",
              "      <th>4</th>\n",
              "      <td>1560478</td>\n",
              "      <td>1998.0</td>\n",
              "      <td>1998.0</td>\n",
              "      <td>CINZA</td>\n",
              "      <td>01/01/2022</td>\n",
              "      <td>2022</td>\n",
              "      <td>1</td>\n",
              "      <td>1</td>\n",
              "      <td>2022/01</td>\n",
              "      <td>AUTOMOVEL</td>\n",
              "    </tr>\n",
              "  </tbody>\n",
              "</table>\n",
              "</div>\n",
              "    <div class=\"colab-df-buttons\">\n",
              "\n",
              "  <div class=\"colab-df-container\">\n",
              "    <button class=\"colab-df-convert\" onclick=\"convertToInteractive('df-974d1ca4-400d-4c7a-aba5-f4b4a6a3d136')\"\n",
              "            title=\"Convert this dataframe to an interactive table.\"\n",
              "            style=\"display:none;\">\n",
              "\n",
              "  <svg xmlns=\"http://www.w3.org/2000/svg\" height=\"24px\" viewBox=\"0 -960 960 960\">\n",
              "    <path d=\"M120-120v-720h720v720H120Zm60-500h600v-160H180v160Zm220 220h160v-160H400v160Zm0 220h160v-160H400v160ZM180-400h160v-160H180v160Zm440 0h160v-160H620v160ZM180-180h160v-160H180v160Zm440 0h160v-160H620v160Z\"/>\n",
              "  </svg>\n",
              "    </button>\n",
              "\n",
              "  <style>\n",
              "    .colab-df-container {\n",
              "      display:flex;\n",
              "      gap: 12px;\n",
              "    }\n",
              "\n",
              "    .colab-df-convert {\n",
              "      background-color: #E8F0FE;\n",
              "      border: none;\n",
              "      border-radius: 50%;\n",
              "      cursor: pointer;\n",
              "      display: none;\n",
              "      fill: #1967D2;\n",
              "      height: 32px;\n",
              "      padding: 0 0 0 0;\n",
              "      width: 32px;\n",
              "    }\n",
              "\n",
              "    .colab-df-convert:hover {\n",
              "      background-color: #E2EBFA;\n",
              "      box-shadow: 0px 1px 2px rgba(60, 64, 67, 0.3), 0px 1px 3px 1px rgba(60, 64, 67, 0.15);\n",
              "      fill: #174EA6;\n",
              "    }\n",
              "\n",
              "    .colab-df-buttons div {\n",
              "      margin-bottom: 4px;\n",
              "    }\n",
              "\n",
              "    [theme=dark] .colab-df-convert {\n",
              "      background-color: #3B4455;\n",
              "      fill: #D2E3FC;\n",
              "    }\n",
              "\n",
              "    [theme=dark] .colab-df-convert:hover {\n",
              "      background-color: #434B5C;\n",
              "      box-shadow: 0px 1px 3px 1px rgba(0, 0, 0, 0.15);\n",
              "      filter: drop-shadow(0px 1px 2px rgba(0, 0, 0, 0.3));\n",
              "      fill: #FFFFFF;\n",
              "    }\n",
              "  </style>\n",
              "\n",
              "    <script>\n",
              "      const buttonEl =\n",
              "        document.querySelector('#df-974d1ca4-400d-4c7a-aba5-f4b4a6a3d136 button.colab-df-convert');\n",
              "      buttonEl.style.display =\n",
              "        google.colab.kernel.accessAllowed ? 'block' : 'none';\n",
              "\n",
              "      async function convertToInteractive(key) {\n",
              "        const element = document.querySelector('#df-974d1ca4-400d-4c7a-aba5-f4b4a6a3d136');\n",
              "        const dataTable =\n",
              "          await google.colab.kernel.invokeFunction('convertToInteractive',\n",
              "                                                    [key], {});\n",
              "        if (!dataTable) return;\n",
              "\n",
              "        const docLinkHtml = 'Like what you see? Visit the ' +\n",
              "          '<a target=\"_blank\" href=https://colab.research.google.com/notebooks/data_table.ipynb>data table notebook</a>'\n",
              "          + ' to learn more about interactive tables.';\n",
              "        element.innerHTML = '';\n",
              "        dataTable['output_type'] = 'display_data';\n",
              "        await google.colab.output.renderOutput(dataTable, element);\n",
              "        const docLink = document.createElement('div');\n",
              "        docLink.innerHTML = docLinkHtml;\n",
              "        element.appendChild(docLink);\n",
              "      }\n",
              "    </script>\n",
              "  </div>\n",
              "\n",
              "\n",
              "    <div id=\"df-3b0f28b7-4047-4f26-84e0-6c449a861fc0\">\n",
              "      <button class=\"colab-df-quickchart\" onclick=\"quickchart('df-3b0f28b7-4047-4f26-84e0-6c449a861fc0')\"\n",
              "                title=\"Suggest charts\"\n",
              "                style=\"display:none;\">\n",
              "\n",
              "<svg xmlns=\"http://www.w3.org/2000/svg\" height=\"24px\"viewBox=\"0 0 24 24\"\n",
              "     width=\"24px\">\n",
              "    <g>\n",
              "        <path d=\"M19 3H5c-1.1 0-2 .9-2 2v14c0 1.1.9 2 2 2h14c1.1 0 2-.9 2-2V5c0-1.1-.9-2-2-2zM9 17H7v-7h2v7zm4 0h-2V7h2v10zm4 0h-2v-4h2v4z\"/>\n",
              "    </g>\n",
              "</svg>\n",
              "      </button>\n",
              "\n",
              "<style>\n",
              "  .colab-df-quickchart {\n",
              "      --bg-color: #E8F0FE;\n",
              "      --fill-color: #1967D2;\n",
              "      --hover-bg-color: #E2EBFA;\n",
              "      --hover-fill-color: #174EA6;\n",
              "      --disabled-fill-color: #AAA;\n",
              "      --disabled-bg-color: #DDD;\n",
              "  }\n",
              "\n",
              "  [theme=dark] .colab-df-quickchart {\n",
              "      --bg-color: #3B4455;\n",
              "      --fill-color: #D2E3FC;\n",
              "      --hover-bg-color: #434B5C;\n",
              "      --hover-fill-color: #FFFFFF;\n",
              "      --disabled-bg-color: #3B4455;\n",
              "      --disabled-fill-color: #666;\n",
              "  }\n",
              "\n",
              "  .colab-df-quickchart {\n",
              "    background-color: var(--bg-color);\n",
              "    border: none;\n",
              "    border-radius: 50%;\n",
              "    cursor: pointer;\n",
              "    display: none;\n",
              "    fill: var(--fill-color);\n",
              "    height: 32px;\n",
              "    padding: 0;\n",
              "    width: 32px;\n",
              "  }\n",
              "\n",
              "  .colab-df-quickchart:hover {\n",
              "    background-color: var(--hover-bg-color);\n",
              "    box-shadow: 0 1px 2px rgba(60, 64, 67, 0.3), 0 1px 3px 1px rgba(60, 64, 67, 0.15);\n",
              "    fill: var(--button-hover-fill-color);\n",
              "  }\n",
              "\n",
              "  .colab-df-quickchart-complete:disabled,\n",
              "  .colab-df-quickchart-complete:disabled:hover {\n",
              "    background-color: var(--disabled-bg-color);\n",
              "    fill: var(--disabled-fill-color);\n",
              "    box-shadow: none;\n",
              "  }\n",
              "\n",
              "  .colab-df-spinner {\n",
              "    border: 2px solid var(--fill-color);\n",
              "    border-color: transparent;\n",
              "    border-bottom-color: var(--fill-color);\n",
              "    animation:\n",
              "      spin 1s steps(1) infinite;\n",
              "  }\n",
              "\n",
              "  @keyframes spin {\n",
              "    0% {\n",
              "      border-color: transparent;\n",
              "      border-bottom-color: var(--fill-color);\n",
              "      border-left-color: var(--fill-color);\n",
              "    }\n",
              "    20% {\n",
              "      border-color: transparent;\n",
              "      border-left-color: var(--fill-color);\n",
              "      border-top-color: var(--fill-color);\n",
              "    }\n",
              "    30% {\n",
              "      border-color: transparent;\n",
              "      border-left-color: var(--fill-color);\n",
              "      border-top-color: var(--fill-color);\n",
              "      border-right-color: var(--fill-color);\n",
              "    }\n",
              "    40% {\n",
              "      border-color: transparent;\n",
              "      border-right-color: var(--fill-color);\n",
              "      border-top-color: var(--fill-color);\n",
              "    }\n",
              "    60% {\n",
              "      border-color: transparent;\n",
              "      border-right-color: var(--fill-color);\n",
              "    }\n",
              "    80% {\n",
              "      border-color: transparent;\n",
              "      border-right-color: var(--fill-color);\n",
              "      border-bottom-color: var(--fill-color);\n",
              "    }\n",
              "    90% {\n",
              "      border-color: transparent;\n",
              "      border-bottom-color: var(--fill-color);\n",
              "    }\n",
              "  }\n",
              "</style>\n",
              "\n",
              "      <script>\n",
              "        async function quickchart(key) {\n",
              "          const quickchartButtonEl =\n",
              "            document.querySelector('#' + key + ' button');\n",
              "          quickchartButtonEl.disabled = true;  // To prevent multiple clicks.\n",
              "          quickchartButtonEl.classList.add('colab-df-spinner');\n",
              "          try {\n",
              "            const charts = await google.colab.kernel.invokeFunction(\n",
              "                'suggestCharts', [key], {});\n",
              "          } catch (error) {\n",
              "            console.error('Error during call to suggestCharts:', error);\n",
              "          }\n",
              "          quickchartButtonEl.classList.remove('colab-df-spinner');\n",
              "          quickchartButtonEl.classList.add('colab-df-quickchart-complete');\n",
              "        }\n",
              "        (() => {\n",
              "          let quickchartButtonEl =\n",
              "            document.querySelector('#df-3b0f28b7-4047-4f26-84e0-6c449a861fc0 button');\n",
              "          quickchartButtonEl.style.display =\n",
              "            google.colab.kernel.accessAllowed ? 'block' : 'none';\n",
              "        })();\n",
              "      </script>\n",
              "    </div>\n",
              "\n",
              "    </div>\n",
              "  </div>\n"
            ],
            "application/vnd.google.colaboratory.intrinsic+json": {
              "type": "dataframe",
              "summary": "{\n  \"name\": \"display(pessoas\",\n  \"rows\": 5,\n  \"fields\": [\n    {\n      \"column\": \"id_sinistro\",\n      \"properties\": {\n        \"dtype\": \"number\",\n        \"std\": 446741,\n        \"min\": 1334206,\n        \"max\": 2459328,\n        \"num_unique_values\": 4,\n        \"samples\": [\n          1334206,\n          1560478,\n          2459328\n        ],\n        \"semantic_type\": \"\",\n        \"description\": \"\"\n      }\n    },\n    {\n      \"column\": \"ano_fab\",\n      \"properties\": {\n        \"dtype\": \"number\",\n        \"std\": 9.83192080250175,\n        \"min\": 1998.0,\n        \"max\": 2016.0,\n        \"num_unique_values\": 4,\n        \"samples\": [\n          2016.0,\n          1998.0,\n          2015.0\n        ],\n        \"semantic_type\": \"\",\n        \"description\": \"\"\n      }\n    },\n    {\n      \"column\": \"ano_modelo\",\n      \"properties\": {\n        \"dtype\": \"number\",\n        \"std\": 9.848857801796104,\n        \"min\": 1998.0,\n        \"max\": 2016.0,\n        \"num_unique_values\": 3,\n        \"samples\": [\n          2016.0,\n          2000.0,\n          1998.0\n        ],\n        \"semantic_type\": \"\",\n        \"description\": \"\"\n      }\n    },\n    {\n      \"column\": \"cor_veiculo\",\n      \"properties\": {\n        \"dtype\": \"string\",\n        \"num_unique_values\": 3,\n        \"samples\": [\n          \"MARROM\",\n          \"CINZA\",\n          \"VERMELHA\"\n        ],\n        \"semantic_type\": \"\",\n        \"description\": \"\"\n      }\n    },\n    {\n      \"column\": \"data_sinistro\",\n      \"properties\": {\n        \"dtype\": \"object\",\n        \"num_unique_values\": 1,\n        \"samples\": [\n          \"01/01/2022\"\n        ],\n        \"semantic_type\": \"\",\n        \"description\": \"\"\n      }\n    },\n    {\n      \"column\": \"ano_sinistro\",\n      \"properties\": {\n        \"dtype\": \"number\",\n        \"std\": 0,\n        \"min\": 2022,\n        \"max\": 2022,\n        \"num_unique_values\": 1,\n        \"samples\": [\n          2022\n        ],\n        \"semantic_type\": \"\",\n        \"description\": \"\"\n      }\n    },\n    {\n      \"column\": \"mes_sinistro\",\n      \"properties\": {\n        \"dtype\": \"number\",\n        \"std\": 0,\n        \"min\": 1,\n        \"max\": 1,\n        \"num_unique_values\": 1,\n        \"samples\": [\n          1\n        ],\n        \"semantic_type\": \"\",\n        \"description\": \"\"\n      }\n    },\n    {\n      \"column\": \"dia_sinistro\",\n      \"properties\": {\n        \"dtype\": \"number\",\n        \"std\": 0,\n        \"min\": 1,\n        \"max\": 1,\n        \"num_unique_values\": 1,\n        \"samples\": [\n          1\n        ],\n        \"semantic_type\": \"\",\n        \"description\": \"\"\n      }\n    },\n    {\n      \"column\": \"ano_mes_sinistro\",\n      \"properties\": {\n        \"dtype\": \"object\",\n        \"num_unique_values\": 1,\n        \"samples\": [\n          \"2022/01\"\n        ],\n        \"semantic_type\": \"\",\n        \"description\": \"\"\n      }\n    },\n    {\n      \"column\": \"tipo_veiculo\",\n      \"properties\": {\n        \"dtype\": \"string\",\n        \"num_unique_values\": 3,\n        \"samples\": [\n          \"NAO DISPONIVEL\"\n        ],\n        \"semantic_type\": \"\",\n        \"description\": \"\"\n      }\n    }\n  ]\n}"
            }
          },
          "metadata": {}
        },
        {
          "output_type": "stream",
          "name": "stdout",
          "text": [
            "Pessoas:\n"
          ]
        },
        {
          "output_type": "display_data",
          "data": {
            "text/plain": [
              "   id_sinistro              municipio         tipo_via tipo_veiculo_vitima  \\\n",
              "0      1444332  SAO BERNARDO DO CAMPO         RODOVIAS                 NaN   \n",
              "1      1433481                 SANTOS  VIAS MUNICIPAIS                 NaN   \n",
              "2      1876556                  ASSIS  VIAS MUNICIPAIS                 NaN   \n",
              "3      1667622    PRESIDENTE EPITACIO  VIAS MUNICIPAIS                 NaN   \n",
              "4      2330299            VOTUPORANGA         RODOVIAS                 NaN   \n",
              "\n",
              "        sexo  idade data_obito gravidade_lesao  tipo_de vítima  \\\n",
              "0  MASCULINO   22.0        NaN            LEVE        CONDUTOR   \n",
              "1  MASCULINO   24.0        NaN            LEVE        CONDUTOR   \n",
              "2  MASCULINO   35.0        NaN  NAO DISPONIVEL        CONDUTOR   \n",
              "3  MASCULINO   40.0        NaN            LEVE        CONDUTOR   \n",
              "4   FEMININO   18.0        NaN            LEVE  NAO DISPONIVEL   \n",
              "\n",
              "  faixa_etaria_demografica  ...        profissao data_sinistro ano_sinistro  \\\n",
              "0                  20 a 24  ...   AUXILIAR GERAL    01/01/2022         2022   \n",
              "1                  20 a 24  ...  DESEMPREGADO(A)    01/01/2022         2022   \n",
              "2                  35 a 39  ...      COMERCIANTE    01/01/2022         2022   \n",
              "3                  40 a 44  ...         AJUDANTE    01/01/2022         2022   \n",
              "4                  15 a 19  ...      VENDEDOR(A)    01/01/2022         2022   \n",
              "\n",
              "   mes_sinistro  dia_sinistro  ano_mes_sinistro ano_obito  mes_obito  \\\n",
              "0             1             1           2022/01       NaN        NaN   \n",
              "1             1             1           2022/01       NaN        NaN   \n",
              "2             1             1           2022/01       NaN        NaN   \n",
              "3             1             1           2022/01       NaN        NaN   \n",
              "4             1             1           2022/01       NaN        NaN   \n",
              "\n",
              "   dia_obito  ano_mes_obito  \n",
              "0        NaN            NaN  \n",
              "1        NaN            NaN  \n",
              "2        NaN            NaN  \n",
              "3        NaN            NaN  \n",
              "4        NaN            NaN  \n",
              "\n",
              "[5 rows x 21 columns]"
            ],
            "text/html": [
              "\n",
              "  <div id=\"df-fab4461c-c4d6-4f92-afbd-6b06e267e6ca\" class=\"colab-df-container\">\n",
              "    <div>\n",
              "<style scoped>\n",
              "    .dataframe tbody tr th:only-of-type {\n",
              "        vertical-align: middle;\n",
              "    }\n",
              "\n",
              "    .dataframe tbody tr th {\n",
              "        vertical-align: top;\n",
              "    }\n",
              "\n",
              "    .dataframe thead th {\n",
              "        text-align: right;\n",
              "    }\n",
              "</style>\n",
              "<table border=\"1\" class=\"dataframe\">\n",
              "  <thead>\n",
              "    <tr style=\"text-align: right;\">\n",
              "      <th></th>\n",
              "      <th>id_sinistro</th>\n",
              "      <th>municipio</th>\n",
              "      <th>tipo_via</th>\n",
              "      <th>tipo_veiculo_vitima</th>\n",
              "      <th>sexo</th>\n",
              "      <th>idade</th>\n",
              "      <th>data_obito</th>\n",
              "      <th>gravidade_lesao</th>\n",
              "      <th>tipo_de vítima</th>\n",
              "      <th>faixa_etaria_demografica</th>\n",
              "      <th>...</th>\n",
              "      <th>profissao</th>\n",
              "      <th>data_sinistro</th>\n",
              "      <th>ano_sinistro</th>\n",
              "      <th>mes_sinistro</th>\n",
              "      <th>dia_sinistro</th>\n",
              "      <th>ano_mes_sinistro</th>\n",
              "      <th>ano_obito</th>\n",
              "      <th>mes_obito</th>\n",
              "      <th>dia_obito</th>\n",
              "      <th>ano_mes_obito</th>\n",
              "    </tr>\n",
              "  </thead>\n",
              "  <tbody>\n",
              "    <tr>\n",
              "      <th>0</th>\n",
              "      <td>1444332</td>\n",
              "      <td>SAO BERNARDO DO CAMPO</td>\n",
              "      <td>RODOVIAS</td>\n",
              "      <td>NaN</td>\n",
              "      <td>MASCULINO</td>\n",
              "      <td>22.0</td>\n",
              "      <td>NaN</td>\n",
              "      <td>LEVE</td>\n",
              "      <td>CONDUTOR</td>\n",
              "      <td>20 a 24</td>\n",
              "      <td>...</td>\n",
              "      <td>AUXILIAR GERAL</td>\n",
              "      <td>01/01/2022</td>\n",
              "      <td>2022</td>\n",
              "      <td>1</td>\n",
              "      <td>1</td>\n",
              "      <td>2022/01</td>\n",
              "      <td>NaN</td>\n",
              "      <td>NaN</td>\n",
              "      <td>NaN</td>\n",
              "      <td>NaN</td>\n",
              "    </tr>\n",
              "    <tr>\n",
              "      <th>1</th>\n",
              "      <td>1433481</td>\n",
              "      <td>SANTOS</td>\n",
              "      <td>VIAS MUNICIPAIS</td>\n",
              "      <td>NaN</td>\n",
              "      <td>MASCULINO</td>\n",
              "      <td>24.0</td>\n",
              "      <td>NaN</td>\n",
              "      <td>LEVE</td>\n",
              "      <td>CONDUTOR</td>\n",
              "      <td>20 a 24</td>\n",
              "      <td>...</td>\n",
              "      <td>DESEMPREGADO(A)</td>\n",
              "      <td>01/01/2022</td>\n",
              "      <td>2022</td>\n",
              "      <td>1</td>\n",
              "      <td>1</td>\n",
              "      <td>2022/01</td>\n",
              "      <td>NaN</td>\n",
              "      <td>NaN</td>\n",
              "      <td>NaN</td>\n",
              "      <td>NaN</td>\n",
              "    </tr>\n",
              "    <tr>\n",
              "      <th>2</th>\n",
              "      <td>1876556</td>\n",
              "      <td>ASSIS</td>\n",
              "      <td>VIAS MUNICIPAIS</td>\n",
              "      <td>NaN</td>\n",
              "      <td>MASCULINO</td>\n",
              "      <td>35.0</td>\n",
              "      <td>NaN</td>\n",
              "      <td>NAO DISPONIVEL</td>\n",
              "      <td>CONDUTOR</td>\n",
              "      <td>35 a 39</td>\n",
              "      <td>...</td>\n",
              "      <td>COMERCIANTE</td>\n",
              "      <td>01/01/2022</td>\n",
              "      <td>2022</td>\n",
              "      <td>1</td>\n",
              "      <td>1</td>\n",
              "      <td>2022/01</td>\n",
              "      <td>NaN</td>\n",
              "      <td>NaN</td>\n",
              "      <td>NaN</td>\n",
              "      <td>NaN</td>\n",
              "    </tr>\n",
              "    <tr>\n",
              "      <th>3</th>\n",
              "      <td>1667622</td>\n",
              "      <td>PRESIDENTE EPITACIO</td>\n",
              "      <td>VIAS MUNICIPAIS</td>\n",
              "      <td>NaN</td>\n",
              "      <td>MASCULINO</td>\n",
              "      <td>40.0</td>\n",
              "      <td>NaN</td>\n",
              "      <td>LEVE</td>\n",
              "      <td>CONDUTOR</td>\n",
              "      <td>40 a 44</td>\n",
              "      <td>...</td>\n",
              "      <td>AJUDANTE</td>\n",
              "      <td>01/01/2022</td>\n",
              "      <td>2022</td>\n",
              "      <td>1</td>\n",
              "      <td>1</td>\n",
              "      <td>2022/01</td>\n",
              "      <td>NaN</td>\n",
              "      <td>NaN</td>\n",
              "      <td>NaN</td>\n",
              "      <td>NaN</td>\n",
              "    </tr>\n",
              "    <tr>\n",
              "      <th>4</th>\n",
              "      <td>2330299</td>\n",
              "      <td>VOTUPORANGA</td>\n",
              "      <td>RODOVIAS</td>\n",
              "      <td>NaN</td>\n",
              "      <td>FEMININO</td>\n",
              "      <td>18.0</td>\n",
              "      <td>NaN</td>\n",
              "      <td>LEVE</td>\n",
              "      <td>NAO DISPONIVEL</td>\n",
              "      <td>15 a 19</td>\n",
              "      <td>...</td>\n",
              "      <td>VENDEDOR(A)</td>\n",
              "      <td>01/01/2022</td>\n",
              "      <td>2022</td>\n",
              "      <td>1</td>\n",
              "      <td>1</td>\n",
              "      <td>2022/01</td>\n",
              "      <td>NaN</td>\n",
              "      <td>NaN</td>\n",
              "      <td>NaN</td>\n",
              "      <td>NaN</td>\n",
              "    </tr>\n",
              "  </tbody>\n",
              "</table>\n",
              "<p>5 rows × 21 columns</p>\n",
              "</div>\n",
              "    <div class=\"colab-df-buttons\">\n",
              "\n",
              "  <div class=\"colab-df-container\">\n",
              "    <button class=\"colab-df-convert\" onclick=\"convertToInteractive('df-fab4461c-c4d6-4f92-afbd-6b06e267e6ca')\"\n",
              "            title=\"Convert this dataframe to an interactive table.\"\n",
              "            style=\"display:none;\">\n",
              "\n",
              "  <svg xmlns=\"http://www.w3.org/2000/svg\" height=\"24px\" viewBox=\"0 -960 960 960\">\n",
              "    <path d=\"M120-120v-720h720v720H120Zm60-500h600v-160H180v160Zm220 220h160v-160H400v160Zm0 220h160v-160H400v160ZM180-400h160v-160H180v160Zm440 0h160v-160H620v160ZM180-180h160v-160H180v160Zm440 0h160v-160H620v160Z\"/>\n",
              "  </svg>\n",
              "    </button>\n",
              "\n",
              "  <style>\n",
              "    .colab-df-container {\n",
              "      display:flex;\n",
              "      gap: 12px;\n",
              "    }\n",
              "\n",
              "    .colab-df-convert {\n",
              "      background-color: #E8F0FE;\n",
              "      border: none;\n",
              "      border-radius: 50%;\n",
              "      cursor: pointer;\n",
              "      display: none;\n",
              "      fill: #1967D2;\n",
              "      height: 32px;\n",
              "      padding: 0 0 0 0;\n",
              "      width: 32px;\n",
              "    }\n",
              "\n",
              "    .colab-df-convert:hover {\n",
              "      background-color: #E2EBFA;\n",
              "      box-shadow: 0px 1px 2px rgba(60, 64, 67, 0.3), 0px 1px 3px 1px rgba(60, 64, 67, 0.15);\n",
              "      fill: #174EA6;\n",
              "    }\n",
              "\n",
              "    .colab-df-buttons div {\n",
              "      margin-bottom: 4px;\n",
              "    }\n",
              "\n",
              "    [theme=dark] .colab-df-convert {\n",
              "      background-color: #3B4455;\n",
              "      fill: #D2E3FC;\n",
              "    }\n",
              "\n",
              "    [theme=dark] .colab-df-convert:hover {\n",
              "      background-color: #434B5C;\n",
              "      box-shadow: 0px 1px 3px 1px rgba(0, 0, 0, 0.15);\n",
              "      filter: drop-shadow(0px 1px 2px rgba(0, 0, 0, 0.3));\n",
              "      fill: #FFFFFF;\n",
              "    }\n",
              "  </style>\n",
              "\n",
              "    <script>\n",
              "      const buttonEl =\n",
              "        document.querySelector('#df-fab4461c-c4d6-4f92-afbd-6b06e267e6ca button.colab-df-convert');\n",
              "      buttonEl.style.display =\n",
              "        google.colab.kernel.accessAllowed ? 'block' : 'none';\n",
              "\n",
              "      async function convertToInteractive(key) {\n",
              "        const element = document.querySelector('#df-fab4461c-c4d6-4f92-afbd-6b06e267e6ca');\n",
              "        const dataTable =\n",
              "          await google.colab.kernel.invokeFunction('convertToInteractive',\n",
              "                                                    [key], {});\n",
              "        if (!dataTable) return;\n",
              "\n",
              "        const docLinkHtml = 'Like what you see? Visit the ' +\n",
              "          '<a target=\"_blank\" href=https://colab.research.google.com/notebooks/data_table.ipynb>data table notebook</a>'\n",
              "          + ' to learn more about interactive tables.';\n",
              "        element.innerHTML = '';\n",
              "        dataTable['output_type'] = 'display_data';\n",
              "        await google.colab.output.renderOutput(dataTable, element);\n",
              "        const docLink = document.createElement('div');\n",
              "        docLink.innerHTML = docLinkHtml;\n",
              "        element.appendChild(docLink);\n",
              "      }\n",
              "    </script>\n",
              "  </div>\n",
              "\n",
              "\n",
              "    <div id=\"df-dee71acd-884a-4168-a572-84447c0127da\">\n",
              "      <button class=\"colab-df-quickchart\" onclick=\"quickchart('df-dee71acd-884a-4168-a572-84447c0127da')\"\n",
              "                title=\"Suggest charts\"\n",
              "                style=\"display:none;\">\n",
              "\n",
              "<svg xmlns=\"http://www.w3.org/2000/svg\" height=\"24px\"viewBox=\"0 0 24 24\"\n",
              "     width=\"24px\">\n",
              "    <g>\n",
              "        <path d=\"M19 3H5c-1.1 0-2 .9-2 2v14c0 1.1.9 2 2 2h14c1.1 0 2-.9 2-2V5c0-1.1-.9-2-2-2zM9 17H7v-7h2v7zm4 0h-2V7h2v10zm4 0h-2v-4h2v4z\"/>\n",
              "    </g>\n",
              "</svg>\n",
              "      </button>\n",
              "\n",
              "<style>\n",
              "  .colab-df-quickchart {\n",
              "      --bg-color: #E8F0FE;\n",
              "      --fill-color: #1967D2;\n",
              "      --hover-bg-color: #E2EBFA;\n",
              "      --hover-fill-color: #174EA6;\n",
              "      --disabled-fill-color: #AAA;\n",
              "      --disabled-bg-color: #DDD;\n",
              "  }\n",
              "\n",
              "  [theme=dark] .colab-df-quickchart {\n",
              "      --bg-color: #3B4455;\n",
              "      --fill-color: #D2E3FC;\n",
              "      --hover-bg-color: #434B5C;\n",
              "      --hover-fill-color: #FFFFFF;\n",
              "      --disabled-bg-color: #3B4455;\n",
              "      --disabled-fill-color: #666;\n",
              "  }\n",
              "\n",
              "  .colab-df-quickchart {\n",
              "    background-color: var(--bg-color);\n",
              "    border: none;\n",
              "    border-radius: 50%;\n",
              "    cursor: pointer;\n",
              "    display: none;\n",
              "    fill: var(--fill-color);\n",
              "    height: 32px;\n",
              "    padding: 0;\n",
              "    width: 32px;\n",
              "  }\n",
              "\n",
              "  .colab-df-quickchart:hover {\n",
              "    background-color: var(--hover-bg-color);\n",
              "    box-shadow: 0 1px 2px rgba(60, 64, 67, 0.3), 0 1px 3px 1px rgba(60, 64, 67, 0.15);\n",
              "    fill: var(--button-hover-fill-color);\n",
              "  }\n",
              "\n",
              "  .colab-df-quickchart-complete:disabled,\n",
              "  .colab-df-quickchart-complete:disabled:hover {\n",
              "    background-color: var(--disabled-bg-color);\n",
              "    fill: var(--disabled-fill-color);\n",
              "    box-shadow: none;\n",
              "  }\n",
              "\n",
              "  .colab-df-spinner {\n",
              "    border: 2px solid var(--fill-color);\n",
              "    border-color: transparent;\n",
              "    border-bottom-color: var(--fill-color);\n",
              "    animation:\n",
              "      spin 1s steps(1) infinite;\n",
              "  }\n",
              "\n",
              "  @keyframes spin {\n",
              "    0% {\n",
              "      border-color: transparent;\n",
              "      border-bottom-color: var(--fill-color);\n",
              "      border-left-color: var(--fill-color);\n",
              "    }\n",
              "    20% {\n",
              "      border-color: transparent;\n",
              "      border-left-color: var(--fill-color);\n",
              "      border-top-color: var(--fill-color);\n",
              "    }\n",
              "    30% {\n",
              "      border-color: transparent;\n",
              "      border-left-color: var(--fill-color);\n",
              "      border-top-color: var(--fill-color);\n",
              "      border-right-color: var(--fill-color);\n",
              "    }\n",
              "    40% {\n",
              "      border-color: transparent;\n",
              "      border-right-color: var(--fill-color);\n",
              "      border-top-color: var(--fill-color);\n",
              "    }\n",
              "    60% {\n",
              "      border-color: transparent;\n",
              "      border-right-color: var(--fill-color);\n",
              "    }\n",
              "    80% {\n",
              "      border-color: transparent;\n",
              "      border-right-color: var(--fill-color);\n",
              "      border-bottom-color: var(--fill-color);\n",
              "    }\n",
              "    90% {\n",
              "      border-color: transparent;\n",
              "      border-bottom-color: var(--fill-color);\n",
              "    }\n",
              "  }\n",
              "</style>\n",
              "\n",
              "      <script>\n",
              "        async function quickchart(key) {\n",
              "          const quickchartButtonEl =\n",
              "            document.querySelector('#' + key + ' button');\n",
              "          quickchartButtonEl.disabled = true;  // To prevent multiple clicks.\n",
              "          quickchartButtonEl.classList.add('colab-df-spinner');\n",
              "          try {\n",
              "            const charts = await google.colab.kernel.invokeFunction(\n",
              "                'suggestCharts', [key], {});\n",
              "          } catch (error) {\n",
              "            console.error('Error during call to suggestCharts:', error);\n",
              "          }\n",
              "          quickchartButtonEl.classList.remove('colab-df-spinner');\n",
              "          quickchartButtonEl.classList.add('colab-df-quickchart-complete');\n",
              "        }\n",
              "        (() => {\n",
              "          let quickchartButtonEl =\n",
              "            document.querySelector('#df-dee71acd-884a-4168-a572-84447c0127da button');\n",
              "          quickchartButtonEl.style.display =\n",
              "            google.colab.kernel.accessAllowed ? 'block' : 'none';\n",
              "        })();\n",
              "      </script>\n",
              "    </div>\n",
              "\n",
              "    </div>\n",
              "  </div>\n"
            ],
            "application/vnd.google.colaboratory.intrinsic+json": {
              "type": "dataframe"
            }
          },
          "metadata": {}
        }
      ]
    },
    {
      "cell_type": "markdown",
      "source": [
        "#🌍 Parte 2 – Criar pontos geográficos com GeoPandas"
      ],
      "metadata": {
        "id": "IZ9xCz2-r6MJ"
      }
    },
    {
      "cell_type": "code",
      "source": [
        "import geopandas as gpd\n",
        "from shapely.geometry import Point\n",
        "\n",
        "# Verificar se há valores nulos nas coordenadas\n",
        "sinistros[['latitude', 'longitude']].isnull().sum()"
      ],
      "metadata": {
        "colab": {
          "base_uri": "https://localhost:8080/",
          "height": 147
        },
        "id": "LbZUyfdisBFC",
        "outputId": "247ceb90-72be-4a6b-e06d-66133068ff53"
      },
      "execution_count": null,
      "outputs": [
        {
          "output_type": "execute_result",
          "data": {
            "text/plain": [
              "latitude     2467\n",
              "longitude    2466\n",
              "dtype: int64"
            ],
            "text/html": [
              "<div>\n",
              "<style scoped>\n",
              "    .dataframe tbody tr th:only-of-type {\n",
              "        vertical-align: middle;\n",
              "    }\n",
              "\n",
              "    .dataframe tbody tr th {\n",
              "        vertical-align: top;\n",
              "    }\n",
              "\n",
              "    .dataframe thead th {\n",
              "        text-align: right;\n",
              "    }\n",
              "</style>\n",
              "<table border=\"1\" class=\"dataframe\">\n",
              "  <thead>\n",
              "    <tr style=\"text-align: right;\">\n",
              "      <th></th>\n",
              "      <th>0</th>\n",
              "    </tr>\n",
              "  </thead>\n",
              "  <tbody>\n",
              "    <tr>\n",
              "      <th>latitude</th>\n",
              "      <td>2467</td>\n",
              "    </tr>\n",
              "    <tr>\n",
              "      <th>longitude</th>\n",
              "      <td>2466</td>\n",
              "    </tr>\n",
              "  </tbody>\n",
              "</table>\n",
              "</div><br><label><b>dtype:</b> int64</label>"
            ]
          },
          "metadata": {},
          "execution_count": 3
        }
      ]
    },
    {
      "cell_type": "markdown",
      "source": [
        "Esse resultado mostra que temos:\n",
        "\n",
        "2.467 linhas com latitude nula\n",
        "\n",
        "2.466 linhas com longitude nula\n",
        "\n",
        "Provavelmente essas linhas são os mesmos registros (ou quase todos), então podemos remover com segurança."
      ],
      "metadata": {
        "id": "8aI4HyOzsgNf"
      }
    },
    {
      "cell_type": "markdown",
      "source": [
        "##🧹 Limpeza antes da conversão geográfica:"
      ],
      "metadata": {
        "id": "kclQGIOGtA7D"
      }
    },
    {
      "cell_type": "markdown",
      "source": [
        "Se houver valores nulos, podemos remover essas linhas para evitar problemas:"
      ],
      "metadata": {
        "id": "8skNFtZusXWq"
      }
    },
    {
      "cell_type": "code",
      "source": [
        "# Remover sinistros sem coordenadas\n",
        "sinistros_geo = sinistros.dropna(subset=['latitude', 'longitude']).copy()"
      ],
      "metadata": {
        "id": "mf1iTXebsaU6"
      },
      "execution_count": null,
      "outputs": []
    },
    {
      "cell_type": "code",
      "source": [
        "# Verificar tamanho depois da limpeza\n",
        "print(f\"Número de registros com coordenadas: {len(sinistros_geo)}\")"
      ],
      "metadata": {
        "colab": {
          "base_uri": "https://localhost:8080/"
        },
        "id": "5U9awl3asrRW",
        "outputId": "07818c03-cf11-4238-a652-8c4eff371195"
      },
      "execution_count": null,
      "outputs": [
        {
          "output_type": "stream",
          "name": "stdout",
          "text": [
            "Número de registros com coordenadas: 621588\n"
          ]
        }
      ]
    },
    {
      "cell_type": "markdown",
      "source": [
        "##🔧 Corrigir latitude e longitude antes de criar os pontos:"
      ],
      "metadata": {
        "id": "823uTAQUteeS"
      }
    },
    {
      "cell_type": "code",
      "source": [
        "# Forçar para string, substituir vírgula por ponto, e converter para float\n",
        "sinistros_geo['latitude'] = sinistros_geo['latitude'].astype(str).str.replace(',', '.').astype(float)\n",
        "sinistros_geo['longitude'] = sinistros_geo['longitude'].astype(str).str.replace(',', '.').astype(float)\n",
        "\n",
        "# Remover coordenadas inválidas\n",
        "sinistros_geo = sinistros_geo[\n",
        "    (sinistros_geo['latitude'].between(-90, 90)) &\n",
        "    (sinistros_geo['longitude'].between(-180, 180))\n",
        "].copy()\n",
        "\n"
      ],
      "metadata": {
        "id": "XoZmIPuatgms"
      },
      "execution_count": null,
      "outputs": []
    },
    {
      "cell_type": "markdown",
      "source": [
        "##🌍 Criar o GeoDataFrame:"
      ],
      "metadata": {
        "id": "qmUU2JfrtGkh"
      }
    },
    {
      "cell_type": "code",
      "source": [
        "from shapely.geometry import Point\n",
        "from shapely.geometry import Point\n",
        "import geopandas as gpd\n",
        "\n",
        "# Criar geometria dos pontos\n",
        "sinistros_geo['geometry'] = sinistros_geo.apply(lambda row: Point(row['longitude'], row['latitude']), axis=1)\n",
        "\n",
        "# Criar GeoDataFrame com sistema de referência WGS 84\n",
        "gdf = gpd.GeoDataFrame(sinistros_geo, geometry='geometry', crs='EPSG:4326')\n"
      ],
      "metadata": {
        "id": "KHidgbLNtJUt"
      },
      "execution_count": null,
      "outputs": []
    },
    {
      "cell_type": "markdown",
      "source": [
        "#🧱 Parte 3 - Criar a grade espacial de 4x4 km"
      ],
      "metadata": {
        "id": "e5RSKpbeuEQN"
      }
    },
    {
      "cell_type": "markdown",
      "source": [
        "##✅ Passo 1: reprojetar os dados para uma projeção métrica (UTM)"
      ],
      "metadata": {
        "id": "Vio3t44yuKio"
      }
    },
    {
      "cell_type": "markdown",
      "source": [
        "O estado de São Paulo está dividido entre duas zonas UTM:\n",
        "\n",
        "- 🔹 **Zona 23S (EPSG:31983)** – cobre a **maior parte do estado**, incluindo toda a região metropolitana de SP, Campinas, Sorocaba, litoral, etc.\n",
        "- 🔸 **Zona 22S (EPSG:31982)** – pega uma **faixa estreita no extremo oeste**, incluindo parte de municípios como Presidente Prudente.\n",
        "\n",
        "---\n",
        "🧭 Então... qual usar?\n",
        "\n",
        "- ✅ A **maioria dos seus sinistros** está concentrada no centro-leste do estado (como costuma acontecer), **usar só a zona 23S (EPSG:31983)** é perfeitamente aceitável e **prático**.\n",
        "- ⚠️ Se for fazer análises **precisas no extremo oeste** ou cruzar com camadas oficiais da zona 22S, talvez precise:\n",
        "  - Reprojetar os dados em duas partes\n",
        "  - Ou usar uma projeção nacional, como **SIRGAS 2000.\n",
        "\n",
        "---\n",
        "\n",
        "💡 Recomendação:\n",
        "\n",
        "Como a análise é em **escala estadual e baseada em grid regular**, o **uso exclusivo da zona 23S** está **totalmente ok** — o erro é pequeno e não compromete a análise de tendências espaciais e temporais que você vai fazer com os *space-time cubes*."
      ],
      "metadata": {
        "id": "sM8bdBr0u5Nw"
      }
    },
    {
      "cell_type": "code",
      "source": [
        "# Reprojetar os pontos para SIRGAS 2000 / UTM zone 23S (válido para o estado de São Paulo)\n",
        "gdf_utm = gdf.to_crs(epsg=31983)\n"
      ],
      "metadata": {
        "id": "oUnybpmTuWQG"
      },
      "execution_count": null,
      "outputs": []
    },
    {
      "cell_type": "code",
      "source": [
        "gdf_utm.total_bounds\n"
      ],
      "metadata": {
        "colab": {
          "base_uri": "https://localhost:8080/"
        },
        "id": "vXbFGLKXwL6X",
        "outputId": "70a546be-e661-41af-be9b-a74ae80b7b69"
      },
      "execution_count": null,
      "outputs": [
        {
          "output_type": "execute_result",
          "data": {
            "text/plain": [
              "array([ -331388.87905156,  3694739.85168164, 10452081.67083514,\n",
              "       20430009.32655587])"
            ]
          },
          "metadata": {},
          "execution_count": 9
        }
      ]
    },
    {
      "cell_type": "markdown",
      "source": [
        "## ✅ Passo 2: criar a grade de 4 km x 4 km\n"
      ],
      "metadata": {
        "id": "NRTlWlTYvooQ"
      }
    },
    {
      "cell_type": "code",
      "source": [
        "from shapely.geometry import box\n",
        "import geopandas as gpd\n",
        "\n",
        "# Obter limites espaciais\n",
        "xmin, ymin, xmax, ymax = gdf_utm.total_bounds\n",
        "grid_size = 4000  # 4 km em metros\n",
        "\n",
        "# Gerar as células da grade\n",
        "cols = list(range(int(xmin), int(xmax) + grid_size, grid_size))\n",
        "rows = list(range(int(ymin), int(ymax) + grid_size, grid_size))\n",
        "polygons = [box(x, y, x + grid_size, y + grid_size) for x in cols for y in rows]\n",
        "\n",
        "# Criar GeoDataFrame da grade\n",
        "grid = gpd.GeoDataFrame({'geometry': polygons}, crs=gdf_utm.crs)\n",
        "\n",
        "# Adicionar um identificador único para cada célula\n",
        "grid[\"cell_id\"] = grid.index\n"
      ],
      "metadata": {
        "id": "6Jisu7DLvtEl"
      },
      "execution_count": null,
      "outputs": []
    },
    {
      "cell_type": "markdown",
      "source": [
        "Essa etapa demora mesmo.........\n",
        "\n",
        "\n",
        "Agora que a grade está criada com sucesso, podemos passar para a Parte 4, onde vamos:\n",
        "\n",
        "- Relacionar cada ponto com uma célula da grade\n",
        "\n",
        "- Agrupar os sinistros por célula + mês\n",
        "\n",
        "- Preparar para análises espaço-temporais! 🚦\n",
        "\n"
      ],
      "metadata": {
        "id": "wI4Zp6662Wdo"
      }
    },
    {
      "cell_type": "markdown",
      "source": [
        "#🧩 Parte 4 – Join espacial + agregação temporal\n"
      ],
      "metadata": {
        "id": "yio_SLtm2wvs"
      }
    },
    {
      "cell_type": "markdown",
      "source": [
        "## 🔁 4.1: Atribuir cada ponto à célula correspondente\n"
      ],
      "metadata": {
        "id": "y9OCNpKn2zTM"
      }
    },
    {
      "cell_type": "code",
      "source": [
        "# Join espacial: associar cada sinistro à célula em que ele caiu\n",
        "join = gpd.sjoin(gdf_utm, grid, how=\"inner\", predicate=\"within\")\n"
      ],
      "metadata": {
        "id": "LzXNKGpl24ID"
      },
      "execution_count": null,
      "outputs": []
    },
    {
      "cell_type": "markdown",
      "source": [
        "##🧮 4.2: Agrupar por célula e por mês\n"
      ],
      "metadata": {
        "id": "MUVKU1Tn3Kx7"
      }
    },
    {
      "cell_type": "markdown",
      "source": [
        "Se sua coluna de data se chama data_sinistro, vamos criar um campo \"ano-mês\":\n"
      ],
      "metadata": {
        "id": "zds0C5Sc3O5D"
      }
    },
    {
      "cell_type": "code",
      "source": [
        "# Converter a data para datetime\n",
        "join['data_sinistro'] = pd.to_datetime(join['data_sinistro'], errors='coerce')\n",
        "\n",
        "# Criar campo ano-mês\n",
        "join['ano_mes'] = join['data_sinistro'].dt.to_period('M')\n"
      ],
      "metadata": {
        "id": "_oIkujVf3Q2p"
      },
      "execution_count": null,
      "outputs": []
    },
    {
      "cell_type": "markdown",
      "source": [
        "Agora vamos contar os sinistros por célula e por mês:"
      ],
      "metadata": {
        "id": "fexqJtfy3Tc_"
      }
    },
    {
      "cell_type": "code",
      "source": [
        "# Contar sinistros por célula (cell_id) e ano-mês\n",
        "contagem = join.groupby(['cell_id', 'ano_mes']).size().reset_index(name='qtd_sinistros')\n"
      ],
      "metadata": {
        "id": "zhsV6h823X14"
      },
      "execution_count": null,
      "outputs": []
    },
    {
      "cell_type": "markdown",
      "source": [
        "##🗺️ 4.3: Juntar com a geometria da grade"
      ],
      "metadata": {
        "id": "fMMnjuPj3b-j"
      }
    },
    {
      "cell_type": "code",
      "source": [
        "# Juntar com as geometrias da grade\n",
        "resultado = contagem.merge(grid[['cell_id', 'geometry']], on='cell_id')\n",
        "resultado = gpd.GeoDataFrame(resultado, geometry='geometry', crs=grid.crs)\n"
      ],
      "metadata": {
        "id": "nsp65LtI3g90"
      },
      "execution_count": null,
      "outputs": []
    },
    {
      "cell_type": "markdown",
      "source": [
        "#🔥 Parte 5 - Classificação dos hotspots"
      ],
      "metadata": {
        "id": "VzhdKm5E6xw5"
      }
    },
    {
      "cell_type": "markdown",
      "source": [
        "##🔢 Passo 1 – Número total de meses no período analisado"
      ],
      "metadata": {
        "id": "iToi25vh7C_M"
      }
    },
    {
      "cell_type": "code",
      "source": [
        "# Quantos meses diferentes há no total\n",
        "n_meses = resultado['ano_mes'].nunique()\n",
        "print(f'Total de meses analisados: {n_meses}')\n"
      ],
      "metadata": {
        "colab": {
          "base_uri": "https://localhost:8080/"
        },
        "id": "aB4wDnf_7Ftd",
        "outputId": "3b8ef52a-561e-466e-e9d2-1575abd7e389"
      },
      "execution_count": null,
      "outputs": [
        {
          "output_type": "stream",
          "name": "stdout",
          "text": [
            "Total de meses analisados: 48\n"
          ]
        }
      ]
    },
    {
      "cell_type": "markdown",
      "source": [
        "Temos **48 meses de dados**, ou seja, **4 anos completos** (2022 a 2025) — ótimo para identificar padrões espaço-temporais consistentes! 🎯\n",
        "\n",
        "---\n",
        "\n",
        "Com isso, a lógica de classificação dos hotspots vai funcionar assim:\n",
        "\n",
        "| Classificação            | Critério com base em 48 meses                     |\n",
        "|--------------------------|---------------------------------------------------|\n",
        "| **Persistente**          | 48 meses com sinistros (100%)                    |\n",
        "| **Forte tendência**      | ≥ 36 meses com sinistros (75% ou mais)           |\n",
        "| **Novo / Intermitente**  | ≤ 3 meses com sinistros (eventual ou recente)    |\n",
        "| **Oscilante**            | Tudo o que estiver entre os casos acima          |\n",
        "\n",
        "Esse tipo de categorização é bem próximo do que o artigo original usa com *space-time cube + emerging hotspot analysis*."
      ],
      "metadata": {
        "id": "WPpg684G7XCN"
      }
    },
    {
      "cell_type": "markdown",
      "source": [
        "## 📊 Passo 2 – Classificação por padrão de recorrência"
      ],
      "metadata": {
        "id": "fVxtQc037kNV"
      }
    },
    {
      "cell_type": "code",
      "source": [
        "# Contar em quantos meses cada célula teve sinistro\n",
        "ocorrencias = resultado.groupby('cell_id')['ano_mes'].nunique().reset_index(name='n_meses_com_sinistro')\n",
        "\n",
        "# Soma total de sinistros por célula\n",
        "total = resultado.groupby('cell_id')['qtd_sinistros'].sum().reset_index(name='soma_total')\n",
        "\n",
        "# Juntar informações\n",
        "analise = ocorrencias.merge(total, on='cell_id')\n"
      ],
      "metadata": {
        "id": "eXaOx8qr7pGv"
      },
      "execution_count": null,
      "outputs": []
    },
    {
      "cell_type": "markdown",
      "source": [
        "##🔥 Passo 3 – Aplicar regras de classificação"
      ],
      "metadata": {
        "id": "0c1k2qDl7t1N"
      }
    },
    {
      "cell_type": "markdown",
      "source": [
        "Você pode ajustar os critérios abaixo conforme o seu interesse:"
      ],
      "metadata": {
        "id": "Jp-te3jT7xrS"
      }
    },
    {
      "cell_type": "code",
      "source": [
        "def classificar(row):\n",
        "    if row['n_meses_com_sinistro'] == n_meses:\n",
        "        return 'Persistente'\n",
        "    elif row['n_meses_com_sinistro'] >= n_meses * 0.75:\n",
        "        return 'Forte tendência'\n",
        "    elif row['n_meses_com_sinistro'] <= 3:\n",
        "        return 'Novo / Intermitente'\n",
        "    else:\n",
        "        return 'Oscilante'\n",
        "\n",
        "analise['classificacao'] = analise.apply(classificar, axis=1)\n"
      ],
      "metadata": {
        "id": "_0Vp020V72DY"
      },
      "execution_count": null,
      "outputs": []
    },
    {
      "cell_type": "markdown",
      "source": [
        "##🗺️ Passo 4 – Juntar com a grade e mapear"
      ],
      "metadata": {
        "id": "lleMNIw178Hv"
      }
    },
    {
      "cell_type": "code",
      "source": [
        "# Juntar com a geometria da grade\n",
        "mapa_classificado = grid.merge(analise, on='cell_id')\n",
        "\n",
        "# Plotar o mapa com categorias\n",
        "ax = mapa_classificado.plot(\n",
        "    column='classificacao',\n",
        "    categorical=True,\n",
        "    legend=True,\n",
        "    figsize=(12, 8),\n",
        "    edgecolor='gray'\n",
        ")\n",
        "ax.set_title('Classificação Espacial dos Hotspots de Sinistros')\n",
        "ax.set_axis_off()\n"
      ],
      "metadata": {
        "colab": {
          "base_uri": "https://localhost:8080/",
          "height": 640
        },
        "id": "qPvRde6S8Af9",
        "outputId": "fb9c2e1c-32b0-47f8-9ec3-ddff66d190a4"
      },
      "execution_count": null,
      "outputs": [
        {
          "output_type": "display_data",
          "data": {
            "text/plain": [
              "<Figure size 1200x800 with 1 Axes>"
            ],
            "image/png": "[encoded data removed]"
          },
          "metadata": {}
        }
      ]
    },
    {
      "cell_type": "code",
      "source": [
        "import os\n",
        "\n",
        "# Criar pasta para salvar os arquivos\n",
        "os.makedirs(\"/content/shapefile_saida\", exist_ok=True)\n",
        "\n",
        "# Exportar como shapefile (cria múltiplos arquivos: .shp, .shx, .dbf etc.)\n",
        "mapa_classificado.to_file(\"/content/shapefile_saida/hotspots_sinistros.shp\", driver='ESRI Shapefile')\n"
      ],
      "metadata": {
        "colab": {
          "base_uri": "https://localhost:8080/"
        },
        "id": "POcXBmXF8aYi",
        "outputId": "4253e074-c852-43ba-f97a-2dadf0ebb9be"
      },
      "execution_count": null,
      "outputs": [
        {
          "output_type": "stream",
          "name": "stderr",
          "text": [
            "<ipython-input-19-405278873708>:7: UserWarning: Column names longer than 10 characters will be truncated when saved to ESRI Shapefile.\n",
            "  mapa_classificado.to_file(\"/content/shapefile_saida/hotspots_sinistros.shp\", driver='ESRI Shapefile')\n",
            "/usr/local/lib/python3.11/dist-packages/pyogrio/raw.py:723: RuntimeWarning: Normalized/laundered field name: 'n_meses_com_sinistro' to 'n_meses_co'\n",
            "  ogr_write(\n",
            "/usr/local/lib/python3.11/dist-packages/pyogrio/raw.py:723: RuntimeWarning: Normalized/laundered field name: 'classificacao' to 'classifica'\n",
            "  ogr_write(\n"
          ]
        }
      ]
    },
    {
      "cell_type": "code",
      "source": [
        "!zip -r /content/hotspots_sinistros.zip /content/shapefile_saida\n"
      ],
      "metadata": {
        "colab": {
          "base_uri": "https://localhost:8080/"
        },
        "id": "drrvinjq8eeA",
        "outputId": "46da03ae-a252-4dd0-d290-175fe0255de6"
      },
      "execution_count": null,
      "outputs": [
        {
          "output_type": "stream",
          "name": "stdout",
          "text": [
            "  adding: content/shapefile_saida/ (stored 0%)\n",
            "  adding: content/shapefile_saida/hotspots_sinistros.prj (deflated 37%)\n",
            "  adding: content/shapefile_saida/hotspots_sinistros.cpg (stored 0%)\n",
            "  adding: content/shapefile_saida/hotspots_sinistros.shx (deflated 72%)\n",
            "  adding: content/shapefile_saida/hotspots_sinistros.shp (deflated 86%)\n",
            "  adding: content/shapefile_saida/hotspots_sinistros.dbf (deflated 95%)\n"
          ]
        }
      ]
    },
    {
      "cell_type": "code",
      "source": [
        "from google.colab import files\n",
        "files.download('/content/hotspots_sinistros.zip')\n"
      ],
      "metadata": {
        "id": "OsyE9TLn8hTH",
        "outputId": "6168575c-9abd-44aa-c2b5-7bb874a35eea",
        "colab": {
          "base_uri": "https://localhost:8080/",
          "height": 17
        }
      },
      "execution_count": null,
      "outputs": [
        {
          "output_type": "display_data",
          "data": {
            "text/plain": [
              "<IPython.core.display.Javascript object>"
            ],
            "application/javascript": [
              "\n",
              "    async function download(id, filename, size) {\n",
              "      if (!google.colab.kernel.accessAllowed) {\n",
              "        return;\n",
              "      }\n",
              "      const div = document.createElement('div');\n",
              "      const label = document.createElement('label');\n",
              "      label.textContent = `Downloading \"${filename}\": `;\n",
              "      div.appendChild(label);\n",
              "      const progress = document.createElement('progress');\n",
              "      progress.max = size;\n",
              "      div.appendChild(progress);\n",
              "      document.body.appendChild(div);\n",
              "\n",
              "      const buffers = [];\n",
              "      let downloaded = 0;\n",
              "\n",
              "      const channel = await google.colab.kernel.comms.open(id);\n",
              "      // Send a message to notify the kernel that we're ready.\n",
              "      channel.send({})\n",
              "\n",
              "      for await (const message of channel.messages) {\n",
              "        // Send a message to notify the kernel that we're ready.\n",
              "        channel.send({})\n",
              "        if (message.buffers) {\n",
              "          for (const buffer of message.buffers) {\n",
              "            buffers.push(buffer);\n",
              "            downloaded += buffer.byteLength;\n",
              "            progress.value = downloaded;\n",
              "          }\n",
              "        }\n",
              "      }\n",
              "      const blob = new Blob(buffers, {type: 'application/binary'});\n",
              "      const a = document.createElement('a');\n",
              "      a.href = window.URL.createObjectURL(blob);\n",
              "      a.download = filename;\n",
              "      div.appendChild(a);\n",
              "      a.click();\n",
              "      div.remove();\n",
              "    }\n",
              "  "
            ]
          },
          "metadata": {}
        },
        {
          "output_type": "display_data",
          "data": {
            "text/plain": [
              "<IPython.core.display.Javascript object>"
            ],
            "application/javascript": [
              "download(\"download_3752890f-919b-428e-9540-4a5a3b18d82e\", \"hotspots_sinistros.zip\", 135821)"
            ]
          },
          "metadata": {}
        }
      ]
    },
    {
      "cell_type": "code",
      "source": [
        "from sklearn.linear_model import LinearRegression\n",
        "import numpy as np\n",
        "\n",
        "def classificar_tendencia(subset):\n",
        "    if len(subset) < 4:\n",
        "        return 'Poucos dados'\n",
        "    X = np.arange(len(subset)).reshape(-1, 1)\n",
        "    y = subset['qtd_sinistros'].values\n",
        "    model = LinearRegression().fit(X, y)\n",
        "    slope = model.coef_[0]\n",
        "\n",
        "    if slope > 0.5:\n",
        "        return 'Hotspot crescente'\n",
        "    elif slope < -0.5:\n",
        "        return 'Hotspot decrescente'\n",
        "    elif all(y > 0):\n",
        "        return 'Hotspot persistente'\n",
        "    else:\n",
        "        return 'Oscilante'\n",
        "\n",
        "# Aplicar por célula\n",
        "resultado_sorted = resultado.sort_values(by=['cell_id', 'ano_mes'])\n",
        "classificacoes = resultado_sorted.groupby('cell_id').apply(classificar_tendencia).reset_index(name='classificacao_regressao')\n"
      ],
      "metadata": {
        "colab": {
          "base_uri": "https://localhost:8080/"
        },
        "id": "YRorGfiwUywe",
        "outputId": "9081c1ba-fd50-44bd-ef83-0a82a68fe859"
      },
      "execution_count": null,
      "outputs": [
        {
          "output_type": "stream",
          "name": "stderr",
          "text": [
            "<ipython-input-22-a2cebc9893c9>:23: DeprecationWarning: DataFrameGroupBy.apply operated on the grouping columns. This behavior is deprecated, and in a future version of pandas the grouping columns will be excluded from the operation. Either pass `include_groups=False` to exclude the groupings or explicitly select the grouping columns after groupby to silence this warning.\n",
            "  classificacoes = resultado_sorted.groupby('cell_id').apply(classificar_tendencia).reset_index(name='classificacao_regressao')\n"
          ]
        }
      ]
    },
    {
      "cell_type": "code",
      "source": [
        "# Juntar com o GeoDataFrame da grade\n",
        "mapa_regressao = grid.merge(classificacoes, on='cell_id')\n",
        "\n"
      ],
      "metadata": {
        "id": "6jnDctrGWUVT"
      },
      "execution_count": null,
      "outputs": []
    },
    {
      "cell_type": "code",
      "source": [
        "grid.head()\n"
      ],
      "metadata": {
        "id": "7oj4N5ouWvqe"
      },
      "execution_count": null,
      "outputs": []
    }
  ]
}